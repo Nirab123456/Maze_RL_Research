{
 "cells": [
  {
   "cell_type": "code",
   "execution_count": 1,
   "metadata": {},
   "outputs": [
    {
     "name": "stderr",
     "output_type": "stream",
     "text": [
      "c:\\Users\\rifat\\miniconda3\\envs\\tf\\lib\\site-packages\\tqdm\\auto.py:21: TqdmWarning: IProgress not found. Please update jupyter and ipywidgets. See https://ipywidgets.readthedocs.io/en/stable/user_install.html\n",
      "  from .autonotebook import tqdm as notebook_tqdm\n"
     ]
    }
   ],
   "source": [
    "import gym \n",
    "import retro\n",
    "import numpy as np\n",
    "import  gym\n",
    "from gym import Env\n",
    "\n",
    "\n",
    "from torch.utils.tensorboard import SummaryWriter\n",
    "import retro\n",
    "import cv2\n",
    "from gym.spaces import Box,MultiBinary\n",
    "import numpy as np\n",
    "import optuna\n",
    "import tqdm as notebook_tqdm\n",
    "from stable_baselines3.common.vec_env import DummyVecEnv, VecVideoRecorder ,VecFrameStack\n",
    "from stable_baselines3 import PPO\n",
    "from stable_baselines3.common.evaluation import evaluate_policy\n",
    "from stable_baselines3.common.monitor import Monitor"
   ]
  },
  {
   "cell_type": "code",
   "execution_count": 2,
   "metadata": {},
   "outputs": [],
   "source": [
    "class KungFuKid(Env):\n",
    "    def __init__(self) -> None:\n",
    "        super().__init__()\n",
    "        self.observation_space=Box(low=0, high=255, shape=(84, 84, 1), dtype=np.uint8)\n",
    "        self.action_space=MultiBinary(9)\n",
    "        self.game = retro.make(game='FantasyZoneTheMaze-Sms',use_restricted_actions=retro.Actions.FILTERED)\n",
    "\n",
    "    def preprocess_observation(self,obs):\n",
    "        gray = cv2.cvtColor(obs, cv2.COLOR_RGB2GRAY)\n",
    "        resize = cv2.resize(gray, (84, 84),interpolation=cv2.INTER_AREA)\n",
    "        chennels = np.expand_dims(resize, axis=2)\n",
    "        return chennels\n",
    "   \n",
    "\n",
    "    def step(self, action):\n",
    "        obs, reward, done, info = self.game.step(action)\n",
    "        obs = self.preprocess_observation(obs)\n",
    "        frame_delta = obs - self.previous_frame\n",
    "        self.previous_frame = obs\n",
    "\n",
    "        score_reward = (info['score'] - self.score) / 10\n",
    "\n",
    "        # Lives punishment\n",
    "        lives_punishment = 0\n",
    "        if info['lives'] < self.lives:\n",
    "            lives_punishment = 10\n",
    "\n",
    "        reward = score_reward - lives_punishment\n",
    "\n",
    "        self.score = info['score']\n",
    "        self.lives = info['lives']\n",
    "\n",
    "        return frame_delta, reward, done, info\n",
    "\n",
    "\n",
    "    def reset(self):\n",
    "        obs = self.game.reset()\n",
    "        obs = self.preprocess_observation(obs)\n",
    "        self.previous_frame = obs\n",
    "        self.score = 0\n",
    "        self.lives = 5\n",
    "        return obs\n",
    "\n",
    "    def render (self,*args,**kwargs):\n",
    "        self.game.render()\n",
    "\n",
    "    def close(self):\n",
    "        self.game.close()\n"
   ]
  },
  {
   "cell_type": "code",
   "execution_count": 3,
   "metadata": {},
   "outputs": [],
   "source": [
    "import time"
   ]
  },
  {
   "attachments": {},
   "cell_type": "markdown",
   "metadata": {},
   "source": [
    "best_model_10000.zip"
   ]
  },
  {
   "cell_type": "code",
   "execution_count": null,
   "metadata": {},
   "outputs": [],
   "source": []
  },
  {
   "cell_type": "code",
   "execution_count": 4,
   "metadata": {},
   "outputs": [],
   "source": [
    "model_dir='D:/torch_rl/AI_FOR_games/maze/models/FantasyZoneTheMaze-Sms/best_model_15580000.zip'\n",
    "# model_dir='D:/torch_rl/AI_FOR_games/maze/models/FantasyZoneTheMaze-Sms/best_model_10000.zip'"
   ]
  },
  {
   "cell_type": "code",
   "execution_count": 5,
   "metadata": {},
   "outputs": [],
   "source": [
    "model = PPO.load(model_dir)"
   ]
  },
  {
   "cell_type": "code",
   "execution_count": 6,
   "metadata": {},
   "outputs": [],
   "source": [
    "env = KungFuKid()\n",
    "env = Monitor(env)\n",
    "env = DummyVecEnv([lambda: env])\n",
    "env = VecFrameStack(env, 4, channels_order='last')"
   ]
  },
  {
   "cell_type": "code",
   "execution_count": 7,
   "metadata": {},
   "outputs": [],
   "source": [
    "obs = env.reset()\n",
    "done= False\n",
    "while not done:\n",
    "    action, _states = model.predict(obs)\n",
    "    obs, rewards, done, info = env.step(action)\n",
    "    env.render()\n",
    "    time.sleep(0.001)\n",
    "    "
   ]
  },
  {
   "cell_type": "code",
   "execution_count": 8,
   "metadata": {},
   "outputs": [
    {
     "data": {
      "text/plain": [
       "array([-10.], dtype=float32)"
      ]
     },
     "execution_count": 8,
     "metadata": {},
     "output_type": "execute_result"
    }
   ],
   "source": [
    "rewards"
   ]
  }
 ],
 "metadata": {
  "kernelspec": {
   "display_name": "tf",
   "language": "python",
   "name": "python3"
  },
  "language_info": {
   "codemirror_mode": {
    "name": "ipython",
    "version": 3
   },
   "file_extension": ".py",
   "mimetype": "text/x-python",
   "name": "python",
   "nbconvert_exporter": "python",
   "pygments_lexer": "ipython3",
   "version": "3.8.16"
  },
  "orig_nbformat": 4
 },
 "nbformat": 4,
 "nbformat_minor": 2
}
